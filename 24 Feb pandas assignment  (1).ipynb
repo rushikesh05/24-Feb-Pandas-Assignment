{
 "cells": [
  {
   "cell_type": "markdown",
   "id": "2f5c36a9-863f-4938-96b0-9490e6178c7f",
   "metadata": {},
   "source": [
    "## Q1. List any five functions of the pandas library with execution.\n",
    "\n",
    "### Here are five commonly used functions in the pandas library with their execution:\n",
    "\n",
    "## 1. read_csv() - reads data from a CSV file and returns it as a DataFrame object."
   ]
  },
  {
   "cell_type": "code",
   "execution_count": 2,
   "id": "9be6e442-4efe-408a-9940-bae4839c19ff",
   "metadata": {},
   "outputs": [],
   "source": [
    "import pandas as pd"
   ]
  },
  {
   "cell_type": "code",
   "execution_count": 38,
   "id": "9b5d731f-b5ec-4ea4-8341-5c8263c34ee4",
   "metadata": {},
   "outputs": [],
   "source": [
    "df = pd.read_csv(\"titanic.csv\")"
   ]
  },
  {
   "cell_type": "markdown",
   "id": "039deee2-ce7b-414a-b08b-fd2dbdacea8f",
   "metadata": {},
   "source": [
    "## 2. head() - returns the first n rows of a DataFrame object. By default, n is 5."
   ]
  },
  {
   "cell_type": "code",
   "execution_count": 37,
   "id": "04c0d2c7-5010-42ad-883e-7347ee4ab5be",
   "metadata": {},
   "outputs": [
    {
     "name": "stdout",
     "output_type": "stream",
     "text": [
      "   Unnamed: 0  PassengerId  Survived  Pclass  \\\n",
      "0           0            1         0       3   \n",
      "1           1            2         1       1   \n",
      "2           2            3         1       3   \n",
      "3           3            4         1       1   \n",
      "4           4            5         0       3   \n",
      "5           5            6         0       3   \n",
      "6           6            7         0       1   \n",
      "7           7            8         0       3   \n",
      "8           8            9         1       3   \n",
      "9           9           10         1       2   \n",
      "\n",
      "                                                Name     Sex   Age  SibSp  \\\n",
      "0                            Braund, Mr. Owen Harris    male  22.0      1   \n",
      "1  Cumings, Mrs. John Bradley (Florence Briggs Th...  female  38.0      1   \n",
      "2                             Heikkinen, Miss. Laina  female  26.0      0   \n",
      "3       Futrelle, Mrs. Jacques Heath (Lily May Peel)  female  35.0      1   \n",
      "4                           Allen, Mr. William Henry    male  35.0      0   \n",
      "5                                   Moran, Mr. James    male   NaN      0   \n",
      "6                            McCarthy, Mr. Timothy J    male  54.0      0   \n",
      "7                     Palsson, Master. Gosta Leonard    male   2.0      3   \n",
      "8  Johnson, Mrs. Oscar W (Elisabeth Vilhelmina Berg)  female  27.0      0   \n",
      "9                Nasser, Mrs. Nicholas (Adele Achem)  female  14.0      1   \n",
      "\n",
      "   Parch            Ticket     Fare Cabin Embarked  \n",
      "0      0         A/5 21171   7.2500   NaN        S  \n",
      "1      0          PC 17599  71.2833   C85        C  \n",
      "2      0  STON/O2. 3101282   7.9250   NaN        S  \n",
      "3      0            113803  53.1000  C123        S  \n",
      "4      0            373450   8.0500   NaN        S  \n",
      "5      0            330877   8.4583   NaN        Q  \n",
      "6      0             17463  51.8625   E46        S  \n",
      "7      1            349909  21.0750   NaN        S  \n",
      "8      2            347742  11.1333   NaN        S  \n",
      "9      0            237736  30.0708   NaN        C  \n"
     ]
    }
   ],
   "source": [
    "import pandas as pd\n",
    "df = pd.read_csv(\"titanic.csv\")\n",
    "print(df.head(10))\n"
   ]
  },
  {
   "cell_type": "markdown",
   "id": "c3561908-426b-42c1-a9a6-c18ae36934c3",
   "metadata": {},
   "source": [
    "## 3. describe() - generates descriptive statistics of a DataFrame object."
   ]
  },
  {
   "cell_type": "code",
   "execution_count": 5,
   "id": "030a6c39-1fd9-45c3-a093-00eab886cce6",
   "metadata": {},
   "outputs": [
    {
     "name": "stdout",
     "output_type": "stream",
     "text": [
      "       PassengerId    Survived      Pclass         Age       SibSp  \\\n",
      "count   891.000000  891.000000  891.000000  714.000000  891.000000   \n",
      "mean    446.000000    0.383838    2.308642   29.699118    0.523008   \n",
      "std     257.353842    0.486592    0.836071   14.526497    1.102743   \n",
      "min       1.000000    0.000000    1.000000    0.420000    0.000000   \n",
      "25%     223.500000    0.000000    2.000000   20.125000    0.000000   \n",
      "50%     446.000000    0.000000    3.000000   28.000000    0.000000   \n",
      "75%     668.500000    1.000000    3.000000   38.000000    1.000000   \n",
      "max     891.000000    1.000000    3.000000   80.000000    8.000000   \n",
      "\n",
      "            Parch        Fare  \n",
      "count  891.000000  891.000000  \n",
      "mean     0.381594   32.204208  \n",
      "std      0.806057   49.693429  \n",
      "min      0.000000    0.000000  \n",
      "25%      0.000000    7.910400  \n",
      "50%      0.000000   14.454200  \n",
      "75%      0.000000   31.000000  \n",
      "max      6.000000  512.329200  \n"
     ]
    }
   ],
   "source": [
    "import pandas as pd\n",
    "print(df.describe())\n"
   ]
  },
  {
   "cell_type": "markdown",
   "id": "3cd82079-c1cc-4201-99ae-49a20d43d882",
   "metadata": {},
   "source": [
    "## 4. groupby() - groups a DataFrame object by a given column or columns."
   ]
  },
  {
   "cell_type": "code",
   "execution_count": 12,
   "id": "80fd1c2e-6f63-47a8-9075-2a66f71d6313",
   "metadata": {},
   "outputs": [
    {
     "name": "stdout",
     "output_type": "stream",
     "text": [
      "                                       PassengerId  Survived  Pclass   Age  \\\n",
      "Name                                                                         \n",
      "Abbing, Mr. Anthony                          846.0       0.0     3.0  42.0   \n",
      "Abbott, Mr. Rossmore Edward                  747.0       0.0     3.0  16.0   \n",
      "Abbott, Mrs. Stanton (Rosa Hunt)             280.0       1.0     3.0  35.0   \n",
      "Abelson, Mr. Samuel                          309.0       0.0     2.0  30.0   \n",
      "Abelson, Mrs. Samuel (Hannah Wizosky)        875.0       1.0     2.0  28.0   \n",
      "...                                            ...       ...     ...   ...   \n",
      "de Mulder, Mr. Theodore                      287.0       1.0     3.0  30.0   \n",
      "de Pelsmaeker, Mr. Alfons                    283.0       0.0     3.0  16.0   \n",
      "del Carlo, Mr. Sebastiano                    362.0       0.0     2.0  29.0   \n",
      "van Billiard, Mr. Austin Blyler              154.0       0.0     3.0  40.5   \n",
      "van Melkebeke, Mr. Philemon                  869.0       0.0     3.0   NaN   \n",
      "\n",
      "                                       SibSp  Parch     Fare  \n",
      "Name                                                          \n",
      "Abbing, Mr. Anthony                      0.0    0.0   7.5500  \n",
      "Abbott, Mr. Rossmore Edward              1.0    1.0  20.2500  \n",
      "Abbott, Mrs. Stanton (Rosa Hunt)         1.0    1.0  20.2500  \n",
      "Abelson, Mr. Samuel                      1.0    0.0  24.0000  \n",
      "Abelson, Mrs. Samuel (Hannah Wizosky)    1.0    0.0  24.0000  \n",
      "...                                      ...    ...      ...  \n",
      "de Mulder, Mr. Theodore                  0.0    0.0   9.5000  \n",
      "de Pelsmaeker, Mr. Alfons                0.0    0.0   9.5000  \n",
      "del Carlo, Mr. Sebastiano                1.0    0.0  27.7208  \n",
      "van Billiard, Mr. Austin Blyler          0.0    2.0  14.5000  \n",
      "van Melkebeke, Mr. Philemon              0.0    0.0   9.5000  \n",
      "\n",
      "[891 rows x 7 columns]\n"
     ]
    },
    {
     "name": "stderr",
     "output_type": "stream",
     "text": [
      "/tmp/ipykernel_84/2543113077.py:3: FutureWarning: The default value of numeric_only in DataFrameGroupBy.mean is deprecated. In a future version, numeric_only will default to False. Either specify numeric_only or select only columns which should be valid for the function.\n",
      "  print(grouped.mean())\n"
     ]
    }
   ],
   "source": [
    "import pandas as pd\n",
    "grouped = df.groupby('Name')\n",
    "print(grouped.mean())\n"
   ]
  },
  {
   "cell_type": "markdown",
   "id": "0774acd7-7992-4197-bf1b-5b80e36cb107",
   "metadata": {},
   "source": [
    "## 5. value_counts(), which returns the count of unique values in a column of a DataFrame object:"
   ]
  },
  {
   "cell_type": "code",
   "execution_count": 10,
   "id": "52612890-13b2-46f1-af93-4ac37eea0839",
   "metadata": {},
   "outputs": [
    {
     "name": "stdout",
     "output_type": "stream",
     "text": [
      "male      577\n",
      "female    314\n",
      "Name: Sex, dtype: int64\n"
     ]
    }
   ],
   "source": [
    "import pandas as pd\n",
    "\n",
    "value_counts = df['Sex'].value_counts()\n",
    "print(value_counts)\n"
   ]
  },
  {
   "cell_type": "markdown",
   "id": "30d7c868-edc4-4405-adb9-c65fd5d85615",
   "metadata": {},
   "source": [
    "## Q2. Given a Pandas DataFrame df with columns 'A', 'B', and 'C', write a  Python function to re-index the DataFrame with a new index that starts from 1 and increments by 2 for each row."
   ]
  },
  {
   "cell_type": "code",
   "execution_count": 13,
   "id": "14454451-5146-48ee-9175-c2b9c7aba40f",
   "metadata": {},
   "outputs": [
    {
     "name": "stdout",
     "output_type": "stream",
     "text": [
      "   A  B  C\n",
      "1  1  4  7\n",
      "3  2  5  8\n",
      "5  3  6  9\n"
     ]
    }
   ],
   "source": [
    "import pandas as pd\n",
    "\n",
    "def reindex_df(df):\n",
    "    new_index = range(1, 2*len(df)+1, 2)\n",
    "    df.index = new_index\n",
    "    return df\n",
    "\n",
    "# Example usage\n",
    "df = pd.DataFrame({'A': [1, 2, 3], 'B': [4, 5, 6], 'C': [7, 8, 9]})\n",
    "reindexed_df = reindex_df(df)\n",
    "print(reindexed_df)\n"
   ]
  },
  {
   "cell_type": "markdown",
   "id": "c3c02a73-b3aa-4e56-9c0d-52b90bcceef8",
   "metadata": {},
   "source": [
    "## Q3. You have a Pandas DataFrame df with a column named 'Values'. Write a Python function that iterates over the DataFrame and calculates the sum of the first three values in the 'Values' column. The function should print the sum to the console."
   ]
  },
  {
   "cell_type": "code",
   "execution_count": 14,
   "id": "8f871f35-c248-44d0-9d42-3b0037f5591b",
   "metadata": {},
   "outputs": [
    {
     "name": "stdout",
     "output_type": "stream",
     "text": [
      "Sum of first three values in 'Values' column: 60\n"
     ]
    }
   ],
   "source": [
    "import pandas as pd\n",
    "\n",
    "def sum_first_three_values(df):\n",
    "    sum_values = 0\n",
    "    for i, row in df.iterrows():\n",
    "        if i < 3:\n",
    "            sum_values += row['Values']\n",
    "    print(\"Sum of first three values in 'Values' column:\", sum_values)\n",
    "\n",
    "# Example usage\n",
    "df = pd.DataFrame({'Values': [10, 20, 30, 40, 50]})\n",
    "sum_first_three_values(df)\n"
   ]
  },
  {
   "cell_type": "markdown",
   "id": "3de1dfd1-7fad-487d-961a-31555ab96347",
   "metadata": {},
   "source": [
    "## Q4. Given a Pandas DataFrame df with a column 'Text', write a Python function to create a new column 'Word_Count' that contains the number of words in each row of the 'Text' column."
   ]
  },
  {
   "cell_type": "code",
   "execution_count": 15,
   "id": "efe91ac6-de86-4ea9-b22a-84b22031c8d7",
   "metadata": {},
   "outputs": [
    {
     "name": "stdout",
     "output_type": "stream",
     "text": [
      "                                                Text  Word_Count\n",
      "0                     Do me a Favour Lets Play Holi.           7\n",
      "1  Another sentence with more words Ankara Messi ...           9\n"
     ]
    }
   ],
   "source": [
    "import pandas as pd\n",
    "\n",
    "def add_word_count_column(df):\n",
    "    df['Word_Count'] = df['Text'].apply(lambda x: len(str(x).split()))\n",
    "    return df\n",
    "\n",
    "# Example usage\n",
    "df = pd.DataFrame({'Text': ['Do me a Favour Lets Play Holi.', 'Another sentence with more words Ankara Messi Messi Messi.']})\n",
    "df = add_word_count_column(df)\n",
    "print(df)\n"
   ]
  },
  {
   "cell_type": "markdown",
   "id": "0bb40171-61e5-4f06-b2d2-574182a56853",
   "metadata": {},
   "source": [
    "## Q5. How are DataFrame.size() and DataFrame.shape() different?\n",
    "\n",
    "\n",
    "#### DataFrame.size and DataFrame.shape are both attributes of a pandas DataFrame object that provide information about the size and shape of the DataFrame, but they represent different things.\n",
    "\n",
    "* DataFrame.size returns the number of elements in the DataFrame, i.e., the total number of cells. It is equivalent to the product of the number of rows and columns in the DataFrame.\n",
    "\n",
    "* DataFrame.shape returns a tuple containing the number of rows and columns in the DataFrame. The first element of the tuple is the number of rows, and the second element is the number of columns.\n",
    "\n",
    "#### Here's an example to illustrate the difference between DataFrame.size and DataFrame.shape:"
   ]
  },
  {
   "cell_type": "code",
   "execution_count": 16,
   "id": "aafbf7b2-e3b1-4b06-86d3-cc5b3967e2b6",
   "metadata": {},
   "outputs": [
    {
     "name": "stdout",
     "output_type": "stream",
     "text": [
      "9\n",
      "(3, 3)\n"
     ]
    }
   ],
   "source": [
    "import pandas as pd\n",
    "\n",
    "df = pd.DataFrame({'A': [1, 2, 3], 'B': [4, 5, 6], 'C': [7, 8, 9]})\n",
    "print(df.size)   \n",
    "print(df.shape)  \n"
   ]
  },
  {
   "cell_type": "markdown",
   "id": "1564ad54-0795-4185-b3a9-3e17bd374cc8",
   "metadata": {},
   "source": [
    "## Q6. Which function of pandas do we use to read an excel file?\n",
    "\n",
    "### To read an Excel file using pandas, we use the read_excel() function. This function can read data from an Excel file and return it as a pandas DataFrame."
   ]
  },
  {
   "cell_type": "code",
   "execution_count": 17,
   "id": "c776c23c-e183-4350-8ae4-110f8c086e8e",
   "metadata": {},
   "outputs": [
    {
     "name": "stdout",
     "output_type": "stream",
     "text": [
      "    Employee ID         Full Name                   Job Title   Department  \\\n",
      "0        E02002            Kai Le           Controls Engineer  Engineering   \n",
      "1        E02003      Robert Patel                     Analyst        Sales   \n",
      "2        E02004        Cameron Lo       Network Administrator           IT   \n",
      "3        E02005   Harper Castillo        IT Systems Architect           IT   \n",
      "4        E02006  Harper Dominguez                    Director  Engineering   \n",
      "..          ...               ...                         ...          ...   \n",
      "995      E02997    Melody Delgado           Network Architect           IT   \n",
      "996      E02998         Eliza Bui                     Analyst      Finance   \n",
      "997      E02999          Layla Wu  Sr. Account Representative        Sales   \n",
      "998      E03000        Thomas Lam           Controls Engineer  Engineering   \n",
      "999      E03001     Willow Taylor      Account Representative        Sales   \n",
      "\n",
      "              Business Unit  Gender Ethnicity  Age  Hire Date  Annual Salary  \\\n",
      "0             Manufacturing    Male     Asian   47 2022-02-05          92368   \n",
      "1                 Corporate    Male     Asian   58 2013-10-23          45703   \n",
      "2    Research & Development    Male     Asian   34 2019-03-24          83576   \n",
      "3                 Corporate  Female    Latino   39 2018-04-07          98062   \n",
      "4                 Corporate  Female    Latino   42 2005-06-18         175391   \n",
      "..                      ...     ...       ...  ...        ...            ...   \n",
      "995      Specialty Products  Female    Latino   48 2012-11-28          71632   \n",
      "996               Corporate  Female     Asian   63 2010-06-13          45337   \n",
      "997  Research & Development  Female     Asian   31 2018-08-27          89573   \n",
      "998           Manufacturing    Male     Asian   52 2022-11-18          75775   \n",
      "999               Corporate  Female     Black   27 2021-02-08          51321   \n",
      "\n",
      "     Bonus %        Country            City Exit Date  \n",
      "0       0.00  United States        Columbus       NaT  \n",
      "1       0.00  United States         Chicago       NaT  \n",
      "2       0.00          China        Shanghai       NaT  \n",
      "3       0.00  United States         Seattle       NaT  \n",
      "4       0.24  United States          Austin       NaT  \n",
      "..       ...            ...             ...       ...  \n",
      "995     0.00         Brazil  Rio de Janeiro       NaT  \n",
      "996     0.00  United States         Seattle       NaT  \n",
      "997     0.00  United States           Miami       NaT  \n",
      "998     0.00  United States         Seattle       NaT  \n",
      "999     0.00  United States         Seattle       NaT  \n",
      "\n",
      "[1000 rows x 14 columns]\n"
     ]
    }
   ],
   "source": [
    "import pandas as pd\n",
    "\n",
    "# Read data from an Excel file into a DataFrame\n",
    "df = pd.read_excel('Employee Sample Data.xlsx')\n",
    "\n",
    "# Display the DataFrame\n",
    "print(df)\n"
   ]
  },
  {
   "cell_type": "markdown",
   "id": "c93964da-d32b-4353-b884-86b520d92e91",
   "metadata": {},
   "source": [
    "### Q7. You have a Pandas DataFrame df that contains a column named 'Email' that contains email addresses in the format 'username@domain.com'. Write a Python function that creates a new column 'Username' in df that contains only the username part of each email address. The username is the part of the email address that appears before the '@' symbol. For example, if the email address is 'john.doe@example.com', the 'Username' column should contain 'john.doe'. Your function should extract the username from each email address and store it in the new 'Username' column."
   ]
  },
  {
   "cell_type": "code",
   "execution_count": 18,
   "id": "d48cc987-3beb-4869-ad69-88bf64fdc25f",
   "metadata": {},
   "outputs": [
    {
     "name": "stdout",
     "output_type": "stream",
     "text": [
      "                              Email                Username\n",
      "0              john.doe@example.com                john.doe\n",
      "1  rushikeshsurywanshi007@gmail.com  rushikeshsurywanshi007\n"
     ]
    }
   ],
   "source": [
    "import pandas as pd\n",
    "\n",
    "def add_username_column(df):\n",
    "    df['Username'] = df['Email'].str.split('@').str[0]\n",
    "    return df\n",
    "\n",
    "# Example usage\n",
    "df = pd.DataFrame({'Email': ['john.doe@example.com', 'rushikeshsurywanshi007@gmail.com']})\n",
    "df = add_username_column(df)\n",
    "print(df)\n"
   ]
  },
  {
   "cell_type": "markdown",
   "id": "dc869251-c8fa-40b2-9292-60e82ae0207e",
   "metadata": {},
   "source": [
    "### Q8. You have a Pandas DataFrame df with columns 'A', 'B', and 'C'. Write a Python function that selects all rows where the value in column 'A' is greater than 5 and the value in column 'B' is less than 10. The function should return a new DataFrame that contains only the selected rows.\n",
    "For example, if df contains the following values:\n",
    "``` \n",
    "   A B C\n",
    "0 3 5 1\n",
    "1 8 2 7\n",
    "2 6 9 4\n",
    "3 2 3 5\n",
    "4 9 1 2\n",
    "```\n"
   ]
  },
  {
   "cell_type": "code",
   "execution_count": 19,
   "id": "8ae34728-24b9-4f3a-a939-551f0fa1afde",
   "metadata": {},
   "outputs": [
    {
     "name": "stdout",
     "output_type": "stream",
     "text": [
      "   A  B  C\n",
      "1  8  2  7\n",
      "2  6  9  4\n",
      "4  9  1  2\n"
     ]
    }
   ],
   "source": [
    "import pandas as pd\n",
    "\n",
    "def select_rows(df):\n",
    "    selected_rows = df[(df['A'] > 5) & (df['B'] < 10)]\n",
    "    return selected_rows\n",
    "\n",
    "# Example usage\n",
    "df = pd.DataFrame({'A': [3, 8, 6, 2, 9], 'B': [5, 2, 9, 3, 1], 'C': [1, 7, 4, 5, 2]})\n",
    "selected_df = select_rows(df)\n",
    "print(selected_df)\n"
   ]
  },
  {
   "cell_type": "markdown",
   "id": "8d70c0d5-f596-464d-9af1-298fda92a2ba",
   "metadata": {},
   "source": [
    "## Q9. Given a Pandas DataFrame df with a column 'Values', write a Python function to calculate the mean, median, and standard deviation of the values in the 'Values' column."
   ]
  },
  {
   "cell_type": "code",
   "execution_count": 20,
   "id": "525e8c56-d013-4684-af80-2227c2a0cd5b",
   "metadata": {},
   "outputs": [
    {
     "name": "stdout",
     "output_type": "stream",
     "text": [
      "Mean: 30.0\n",
      "Median: 30.0\n",
      "Standard deviation: 15.811388300841896\n"
     ]
    }
   ],
   "source": [
    "import pandas as pd\n",
    "\n",
    "def calculate_statistics(df):\n",
    "    mean = df['Values'].mean()\n",
    "    median = df['Values'].median()\n",
    "    std = df['Values'].std()\n",
    "    return mean, median, std\n",
    "\n",
    "# Example usage\n",
    "df = pd.DataFrame({'Values': [10, 20, 30, 40, 50]})\n",
    "mean, median, std = calculate_statistics(df)\n",
    "print('Mean:', mean)\n",
    "print('Median:', median)\n",
    "print('Standard deviation:', std)\n"
   ]
  },
  {
   "cell_type": "markdown",
   "id": "d5c30a1b-3e49-493c-9346-1535f81483f9",
   "metadata": {},
   "source": [
    "### Q10. Given a Pandas DataFrame df with a column 'Sales' and a column 'Date', write a Python function to reate a new column 'MovingAverage' that contains the moving average of the sales for the past 7 days for each row in the DataFrame. The moving average should be calculated using a window of size 7 and should include the current day."
   ]
  },
  {
   "cell_type": "code",
   "execution_count": 21,
   "id": "8c2517b1-130e-423e-8631-392161fd1438",
   "metadata": {},
   "outputs": [],
   "source": [
    "# Creating Dataset\n",
    "from datetime import datetime, timedelta\n",
    "import random\n",
    "\n",
    "end_date = datetime.now().date()\n",
    "start_date = end_date - timedelta(days = 60)\n",
    "\n",
    "date_list = pd.date_range(start=start_date, end=end_date).to_list()\n",
    "sales_list = [random.randint(10, 100) for i in range(len(date_list))]\n",
    "\n",
    "df8 = pd.DataFrame({'Date': date_list, 'Sale': sales_list})"
   ]
  },
  {
   "cell_type": "code",
   "execution_count": 22,
   "id": "fa156e8c-ba12-465a-b6db-f1d7b910ce09",
   "metadata": {},
   "outputs": [
    {
     "data": {
      "text/plain": [
       "<AxesSubplot: xlabel='Date'>"
      ]
     },
     "execution_count": 22,
     "metadata": {},
     "output_type": "execute_result"
    },
    {
     "data": {
      "image/png": "[encoded data removed]",
      "text/plain": [
       "<Figure size 640x480 with 1 Axes>"
      ]
     },
     "metadata": {},
     "output_type": "display_data"
    }
   ],
   "source": [
    "df8.plot.line(x='Date', y='Sale')"
   ]
  },
  {
   "cell_type": "code",
   "execution_count": 23,
   "id": "87e2b5ab-06f9-435e-a81a-f12e86c2693d",
   "metadata": {},
   "outputs": [
    {
     "data": {
      "text/html": [
       "<div>\n",
       "<style scoped>\n",
       "    .dataframe tbody tr th:only-of-type {\n",
       "        vertical-align: middle;\n",
       "    }\n",
       "\n",
       "    .dataframe tbody tr th {\n",
       "        vertical-align: top;\n",
       "    }\n",
       "\n",
       "    .dataframe thead th {\n",
       "        text-align: right;\n",
       "    }\n",
       "</style>\n",
       "<table border=\"1\" class=\"dataframe\">\n",
       "  <thead>\n",
       "    <tr style=\"text-align: right;\">\n",
       "      <th></th>\n",
       "      <th>Date</th>\n",
       "      <th>Sale</th>\n",
       "      <th>MA7</th>\n",
       "    </tr>\n",
       "  </thead>\n",
       "  <tbody>\n",
       "    <tr>\n",
       "      <th>0</th>\n",
       "      <td>2023-01-05</td>\n",
       "      <td>61</td>\n",
       "      <td>NaN</td>\n",
       "    </tr>\n",
       "    <tr>\n",
       "      <th>1</th>\n",
       "      <td>2023-01-06</td>\n",
       "      <td>51</td>\n",
       "      <td>NaN</td>\n",
       "    </tr>\n",
       "    <tr>\n",
       "      <th>2</th>\n",
       "      <td>2023-01-07</td>\n",
       "      <td>26</td>\n",
       "      <td>NaN</td>\n",
       "    </tr>\n",
       "    <tr>\n",
       "      <th>3</th>\n",
       "      <td>2023-01-08</td>\n",
       "      <td>40</td>\n",
       "      <td>NaN</td>\n",
       "    </tr>\n",
       "    <tr>\n",
       "      <th>4</th>\n",
       "      <td>2023-01-09</td>\n",
       "      <td>100</td>\n",
       "      <td>NaN</td>\n",
       "    </tr>\n",
       "    <tr>\n",
       "      <th>...</th>\n",
       "      <td>...</td>\n",
       "      <td>...</td>\n",
       "      <td>...</td>\n",
       "    </tr>\n",
       "    <tr>\n",
       "      <th>56</th>\n",
       "      <td>2023-03-02</td>\n",
       "      <td>66</td>\n",
       "      <td>51.571429</td>\n",
       "    </tr>\n",
       "    <tr>\n",
       "      <th>57</th>\n",
       "      <td>2023-03-03</td>\n",
       "      <td>85</td>\n",
       "      <td>52.714286</td>\n",
       "    </tr>\n",
       "    <tr>\n",
       "      <th>58</th>\n",
       "      <td>2023-03-04</td>\n",
       "      <td>79</td>\n",
       "      <td>59.142857</td>\n",
       "    </tr>\n",
       "    <tr>\n",
       "      <th>59</th>\n",
       "      <td>2023-03-05</td>\n",
       "      <td>72</td>\n",
       "      <td>57.714286</td>\n",
       "    </tr>\n",
       "    <tr>\n",
       "      <th>60</th>\n",
       "      <td>2023-03-06</td>\n",
       "      <td>86</td>\n",
       "      <td>63.571429</td>\n",
       "    </tr>\n",
       "  </tbody>\n",
       "</table>\n",
       "<p>61 rows × 3 columns</p>\n",
       "</div>"
      ],
      "text/plain": [
       "         Date  Sale        MA7\n",
       "0  2023-01-05    61        NaN\n",
       "1  2023-01-06    51        NaN\n",
       "2  2023-01-07    26        NaN\n",
       "3  2023-01-08    40        NaN\n",
       "4  2023-01-09   100        NaN\n",
       "..        ...   ...        ...\n",
       "56 2023-03-02    66  51.571429\n",
       "57 2023-03-03    85  52.714286\n",
       "58 2023-03-04    79  59.142857\n",
       "59 2023-03-05    72  57.714286\n",
       "60 2023-03-06    86  63.571429\n",
       "\n",
       "[61 rows x 3 columns]"
      ]
     },
     "execution_count": 23,
     "metadata": {},
     "output_type": "execute_result"
    }
   ],
   "source": [
    "df8['MA7'] = df8['Sale'].rolling(window=7).mean()\n",
    "df8"
   ]
  },
  {
   "cell_type": "code",
   "execution_count": 24,
   "id": "68466ff2-a786-43e1-90d1-fdf650e25f6c",
   "metadata": {},
   "outputs": [
    {
     "data": {
      "text/plain": [
       "<AxesSubplot: xlabel='Date'>"
      ]
     },
     "execution_count": 24,
     "metadata": {},
     "output_type": "execute_result"
    },
    {
     "data": {
      "image/png": "[encoded data removed]",
      "text/plain": [
       "<Figure size 640x480 with 1 Axes>"
      ]
     },
     "metadata": {},
     "output_type": "display_data"
    }
   ],
   "source": [
    "df8.plot.line(x='Date', y='MA7')\n"
   ]
  },
  {
   "cell_type": "markdown",
   "id": "c736453f-39d8-42e5-9656-fc7f756a5635",
   "metadata": {},
   "source": [
    "## Q11. You have a Pandas DataFrame df with a column 'Date'. Write a Python function that creates a new column 'Weekday' in the DataFrame. The 'Weekday' column should contain the weekday name (e.g. Monday, Tuesday) corresponding to each date in the 'Date' column."
   ]
  },
  {
   "cell_type": "code",
   "execution_count": 25,
   "id": "37ba2b53-57f8-4502-8150-6b2cfb93507e",
   "metadata": {},
   "outputs": [
    {
     "data": {
      "text/plain": [
       "[Timestamp('2023-01-01 00:00:00', freq='D'),\n",
       " Timestamp('2023-01-02 00:00:00', freq='D'),\n",
       " Timestamp('2023-01-03 00:00:00', freq='D'),\n",
       " Timestamp('2023-01-04 00:00:00', freq='D'),\n",
       " Timestamp('2023-01-05 00:00:00', freq='D')]"
      ]
     },
     "execution_count": 25,
     "metadata": {},
     "output_type": "execute_result"
    }
   ],
   "source": [
    "date = pd.date_range(start = '2023-01-01' ,end = '2023-01-05').to_list()\n",
    "date"
   ]
  },
  {
   "cell_type": "code",
   "execution_count": 26,
   "id": "ca775e37-e676-424a-bc0e-0b9ca918d571",
   "metadata": {},
   "outputs": [
    {
     "data": {
      "text/html": [
       "<div>\n",
       "<style scoped>\n",
       "    .dataframe tbody tr th:only-of-type {\n",
       "        vertical-align: middle;\n",
       "    }\n",
       "\n",
       "    .dataframe tbody tr th {\n",
       "        vertical-align: top;\n",
       "    }\n",
       "\n",
       "    .dataframe thead th {\n",
       "        text-align: right;\n",
       "    }\n",
       "</style>\n",
       "<table border=\"1\" class=\"dataframe\">\n",
       "  <thead>\n",
       "    <tr style=\"text-align: right;\">\n",
       "      <th></th>\n",
       "      <th>Date</th>\n",
       "    </tr>\n",
       "  </thead>\n",
       "  <tbody>\n",
       "    <tr>\n",
       "      <th>0</th>\n",
       "      <td>2023-01-01</td>\n",
       "    </tr>\n",
       "    <tr>\n",
       "      <th>1</th>\n",
       "      <td>2023-01-02</td>\n",
       "    </tr>\n",
       "    <tr>\n",
       "      <th>2</th>\n",
       "      <td>2023-01-03</td>\n",
       "    </tr>\n",
       "    <tr>\n",
       "      <th>3</th>\n",
       "      <td>2023-01-04</td>\n",
       "    </tr>\n",
       "    <tr>\n",
       "      <th>4</th>\n",
       "      <td>2023-01-05</td>\n",
       "    </tr>\n",
       "  </tbody>\n",
       "</table>\n",
       "</div>"
      ],
      "text/plain": [
       "        Date\n",
       "0 2023-01-01\n",
       "1 2023-01-02\n",
       "2 2023-01-03\n",
       "3 2023-01-04\n",
       "4 2023-01-05"
      ]
     },
     "execution_count": 26,
     "metadata": {},
     "output_type": "execute_result"
    }
   ],
   "source": [
    "df = pd.DataFrame({'Date': date})\n",
    "df"
   ]
  },
  {
   "cell_type": "code",
   "execution_count": 27,
   "id": "79c378c0-80c5-4d97-b90c-b838656a28b7",
   "metadata": {},
   "outputs": [
    {
     "data": {
      "text/html": [
       "<div>\n",
       "<style scoped>\n",
       "    .dataframe tbody tr th:only-of-type {\n",
       "        vertical-align: middle;\n",
       "    }\n",
       "\n",
       "    .dataframe tbody tr th {\n",
       "        vertical-align: top;\n",
       "    }\n",
       "\n",
       "    .dataframe thead th {\n",
       "        text-align: right;\n",
       "    }\n",
       "</style>\n",
       "<table border=\"1\" class=\"dataframe\">\n",
       "  <thead>\n",
       "    <tr style=\"text-align: right;\">\n",
       "      <th></th>\n",
       "      <th>Date</th>\n",
       "      <th>Weekday</th>\n",
       "    </tr>\n",
       "  </thead>\n",
       "  <tbody>\n",
       "    <tr>\n",
       "      <th>0</th>\n",
       "      <td>2023-01-01</td>\n",
       "      <td>Sunday</td>\n",
       "    </tr>\n",
       "    <tr>\n",
       "      <th>1</th>\n",
       "      <td>2023-01-02</td>\n",
       "      <td>Monday</td>\n",
       "    </tr>\n",
       "    <tr>\n",
       "      <th>2</th>\n",
       "      <td>2023-01-03</td>\n",
       "      <td>Tuesday</td>\n",
       "    </tr>\n",
       "    <tr>\n",
       "      <th>3</th>\n",
       "      <td>2023-01-04</td>\n",
       "      <td>Wednesday</td>\n",
       "    </tr>\n",
       "    <tr>\n",
       "      <th>4</th>\n",
       "      <td>2023-01-05</td>\n",
       "      <td>Thursday</td>\n",
       "    </tr>\n",
       "  </tbody>\n",
       "</table>\n",
       "</div>"
      ],
      "text/plain": [
       "        Date    Weekday\n",
       "0 2023-01-01     Sunday\n",
       "1 2023-01-02     Monday\n",
       "2 2023-01-03    Tuesday\n",
       "3 2023-01-04  Wednesday\n",
       "4 2023-01-05   Thursday"
      ]
     },
     "execution_count": 27,
     "metadata": {},
     "output_type": "execute_result"
    }
   ],
   "source": [
    "df['Weekday'] = pd.to_datetime(df['Date']).dt.day_name()\n",
    "df"
   ]
  },
  {
   "cell_type": "markdown",
   "id": "65d615e2-868f-4eea-9c80-688436fa4bb9",
   "metadata": {},
   "source": [
    "## Q12. Given a Pandas DataFrame df with a column 'Date' that contains timestamps, write a Python function to select all rows where the date is between '2023-01-01' and '2023-01-31'."
   ]
  },
  {
   "cell_type": "code",
   "execution_count": 28,
   "id": "73838f0b-fc02-466a-8abd-60f91fe7ec62",
   "metadata": {},
   "outputs": [
    {
     "data": {
      "text/plain": [
       "DatetimeIndex(['2022-12-31', '2023-01-01', '2023-01-02', '2023-01-03',\n",
       "               '2023-01-04', '2023-01-05', '2023-01-06', '2023-01-07',\n",
       "               '2023-01-08', '2023-01-09', '2023-01-10', '2023-01-11',\n",
       "               '2023-01-12', '2023-01-13', '2023-01-14', '2023-01-15',\n",
       "               '2023-01-16', '2023-01-17', '2023-01-18', '2023-01-19',\n",
       "               '2023-01-20', '2023-01-21', '2023-01-22', '2023-01-23',\n",
       "               '2023-01-24', '2023-01-25', '2023-01-26', '2023-01-27',\n",
       "               '2023-01-28', '2023-01-29', '2023-01-30', '2023-01-31',\n",
       "               '2023-02-01', '2023-02-02', '2023-02-03', '2023-02-04',\n",
       "               '2023-02-05', '2023-02-06', '2023-02-07'],\n",
       "              dtype='datetime64[ns]', freq='D')"
      ]
     },
     "execution_count": 28,
     "metadata": {},
     "output_type": "execute_result"
    }
   ],
   "source": [
    "date = pd.date_range(start = '2022-12-31' ,end = '2023-02-07')\n",
    "date"
   ]
  },
  {
   "cell_type": "code",
   "execution_count": 29,
   "id": "613a168f-5965-42ff-add4-29295183b513",
   "metadata": {},
   "outputs": [
    {
     "data": {
      "text/html": [
       "<div>\n",
       "<style scoped>\n",
       "    .dataframe tbody tr th:only-of-type {\n",
       "        vertical-align: middle;\n",
       "    }\n",
       "\n",
       "    .dataframe tbody tr th {\n",
       "        vertical-align: top;\n",
       "    }\n",
       "\n",
       "    .dataframe thead th {\n",
       "        text-align: right;\n",
       "    }\n",
       "</style>\n",
       "<table border=\"1\" class=\"dataframe\">\n",
       "  <thead>\n",
       "    <tr style=\"text-align: right;\">\n",
       "      <th></th>\n",
       "      <th>Date</th>\n",
       "    </tr>\n",
       "  </thead>\n",
       "  <tbody>\n",
       "    <tr>\n",
       "      <th>2</th>\n",
       "      <td>2023-01-02</td>\n",
       "    </tr>\n",
       "    <tr>\n",
       "      <th>3</th>\n",
       "      <td>2023-01-03</td>\n",
       "    </tr>\n",
       "    <tr>\n",
       "      <th>4</th>\n",
       "      <td>2023-01-04</td>\n",
       "    </tr>\n",
       "    <tr>\n",
       "      <th>5</th>\n",
       "      <td>2023-01-05</td>\n",
       "    </tr>\n",
       "    <tr>\n",
       "      <th>6</th>\n",
       "      <td>2023-01-06</td>\n",
       "    </tr>\n",
       "    <tr>\n",
       "      <th>7</th>\n",
       "      <td>2023-01-07</td>\n",
       "    </tr>\n",
       "    <tr>\n",
       "      <th>8</th>\n",
       "      <td>2023-01-08</td>\n",
       "    </tr>\n",
       "    <tr>\n",
       "      <th>9</th>\n",
       "      <td>2023-01-09</td>\n",
       "    </tr>\n",
       "    <tr>\n",
       "      <th>10</th>\n",
       "      <td>2023-01-10</td>\n",
       "    </tr>\n",
       "    <tr>\n",
       "      <th>11</th>\n",
       "      <td>2023-01-11</td>\n",
       "    </tr>\n",
       "    <tr>\n",
       "      <th>12</th>\n",
       "      <td>2023-01-12</td>\n",
       "    </tr>\n",
       "    <tr>\n",
       "      <th>13</th>\n",
       "      <td>2023-01-13</td>\n",
       "    </tr>\n",
       "    <tr>\n",
       "      <th>14</th>\n",
       "      <td>2023-01-14</td>\n",
       "    </tr>\n",
       "    <tr>\n",
       "      <th>15</th>\n",
       "      <td>2023-01-15</td>\n",
       "    </tr>\n",
       "    <tr>\n",
       "      <th>16</th>\n",
       "      <td>2023-01-16</td>\n",
       "    </tr>\n",
       "    <tr>\n",
       "      <th>17</th>\n",
       "      <td>2023-01-17</td>\n",
       "    </tr>\n",
       "    <tr>\n",
       "      <th>18</th>\n",
       "      <td>2023-01-18</td>\n",
       "    </tr>\n",
       "    <tr>\n",
       "      <th>19</th>\n",
       "      <td>2023-01-19</td>\n",
       "    </tr>\n",
       "    <tr>\n",
       "      <th>20</th>\n",
       "      <td>2023-01-20</td>\n",
       "    </tr>\n",
       "    <tr>\n",
       "      <th>21</th>\n",
       "      <td>2023-01-21</td>\n",
       "    </tr>\n",
       "    <tr>\n",
       "      <th>22</th>\n",
       "      <td>2023-01-22</td>\n",
       "    </tr>\n",
       "    <tr>\n",
       "      <th>23</th>\n",
       "      <td>2023-01-23</td>\n",
       "    </tr>\n",
       "    <tr>\n",
       "      <th>24</th>\n",
       "      <td>2023-01-24</td>\n",
       "    </tr>\n",
       "    <tr>\n",
       "      <th>25</th>\n",
       "      <td>2023-01-25</td>\n",
       "    </tr>\n",
       "    <tr>\n",
       "      <th>26</th>\n",
       "      <td>2023-01-26</td>\n",
       "    </tr>\n",
       "    <tr>\n",
       "      <th>27</th>\n",
       "      <td>2023-01-27</td>\n",
       "    </tr>\n",
       "    <tr>\n",
       "      <th>28</th>\n",
       "      <td>2023-01-28</td>\n",
       "    </tr>\n",
       "    <tr>\n",
       "      <th>29</th>\n",
       "      <td>2023-01-29</td>\n",
       "    </tr>\n",
       "    <tr>\n",
       "      <th>30</th>\n",
       "      <td>2023-01-30</td>\n",
       "    </tr>\n",
       "  </tbody>\n",
       "</table>\n",
       "</div>"
      ],
      "text/plain": [
       "         Date\n",
       "2  2023-01-02\n",
       "3  2023-01-03\n",
       "4  2023-01-04\n",
       "5  2023-01-05\n",
       "6  2023-01-06\n",
       "7  2023-01-07\n",
       "8  2023-01-08\n",
       "9  2023-01-09\n",
       "10 2023-01-10\n",
       "11 2023-01-11\n",
       "12 2023-01-12\n",
       "13 2023-01-13\n",
       "14 2023-01-14\n",
       "15 2023-01-15\n",
       "16 2023-01-16\n",
       "17 2023-01-17\n",
       "18 2023-01-18\n",
       "19 2023-01-19\n",
       "20 2023-01-20\n",
       "21 2023-01-21\n",
       "22 2023-01-22\n",
       "23 2023-01-23\n",
       "24 2023-01-24\n",
       "25 2023-01-25\n",
       "26 2023-01-26\n",
       "27 2023-01-27\n",
       "28 2023-01-28\n",
       "29 2023-01-29\n",
       "30 2023-01-30"
      ]
     },
     "execution_count": 29,
     "metadata": {},
     "output_type": "execute_result"
    }
   ],
   "source": [
    "df = pd.DataFrame({'Date': date})\n",
    "df[ (df['Date'] > '2023-01-01') &  (df['Date'] < '2023-01-31')]"
   ]
  },
  {
   "cell_type": "markdown",
   "id": "0c671e25-c984-4444-becb-a42017853738",
   "metadata": {},
   "source": [
    "## Q13. To use the basic functions of pandas, what is the first and foremost necessary library that needs to be imported?\n",
    "\n",
    "## To use pandas first we need to import Pandas - `import pandas`"
   ]
  },
  {
   "cell_type": "code",
   "execution_count": null,
   "id": "aed79285-d2f6-46e1-a883-6b0f767cbb3d",
   "metadata": {},
   "outputs": [],
   "source": []
  }
 ],
 "metadata": {
  "kernelspec": {
   "display_name": "Python 3 (ipykernel)",
   "language": "python",
   "name": "python3"
  },
  "language_info": {
   "codemirror_mode": {
    "name": "ipython",
    "version": 3
   },
   "file_extension": ".py",
   "mimetype": "text/x-python",
   "name": "python",
   "nbconvert_exporter": "python",
   "pygments_lexer": "ipython3",
   "version": "3.10.8"
  }
 },
 "nbformat": 4,
 "nbformat_minor": 5
}
